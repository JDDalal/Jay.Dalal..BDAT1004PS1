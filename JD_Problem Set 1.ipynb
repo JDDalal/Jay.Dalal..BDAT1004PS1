{
 "cells": [
  {
   "cell_type": "markdown",
   "id": "8099eb69",
   "metadata": {},
   "source": [
    "### Q1. What data type is each of the following (evaluate where necessary)?  \n",
    "5   \n",
    "5.0 \n",
    "5 > 1\n",
    "'5'\n",
    "5 * 2\n",
    "'5' * 2 \n",
    "'5' + '2'\n",
    "5 / 2\n",
    "5 % 2 \n",
    "{5, 2, 1}\n",
    "5 == 3\n",
    "Pi (the number)  "
   ]
  },
  {
   "cell_type": "code",
   "execution_count": 14,
   "id": "521bfe77",
   "metadata": {},
   "outputs": [
    {
     "name": "stdout",
     "output_type": "stream",
     "text": [
      "<class 'int'>\n",
      "\n",
      "<class 'float'>\n",
      "\n",
      "True\n",
      "<class 'bool'>\n",
      "\n",
      "<class 'str'>\n",
      "\n",
      "10\n",
      "<class 'int'>\n",
      "\n",
      "<class 'str'>\n",
      "\n",
      "<class 'str'>\n",
      "\n",
      "2.5\n",
      "<class 'float'>\n",
      "\n",
      "1\n",
      "<class 'int'>\n",
      "\n",
      "<class 'set'>\n",
      "\n",
      "False\n",
      "<class 'bool'>\n",
      "\n",
      "3.141592653589793\n",
      "<class 'float'>\n"
     ]
    }
   ],
   "source": [
    "import math\n",
    "\n",
    "print(type(5), end = \"\\n\\n\")\n",
    "print(type(5.0), end = \"\\n\\n\")\n",
    "\n",
    "print(5 > 1)\n",
    "print(type(5>1), end = \"\\n\\n\")\n",
    "\n",
    "print(type('5'), end = \"\\n\\n\")\n",
    "\n",
    "print(5 * 2)\n",
    "print(type(5 * 2), end = \"\\n\\n\")\n",
    "\n",
    "print(type('5' * 2), end = \"\\n\\n\")\n",
    "\n",
    "print(type('5' + '2'), end = \"\\n\\n\")\n",
    "\n",
    "print(5 / 2)\n",
    "print(type(5 / 2), end = \"\\n\\n\")\n",
    "\n",
    "print(5 % 2)\n",
    "print(type(5 % 2), end = \"\\n\\n\")\n",
    "\n",
    "print(type({5, 2, 1}), end = \"\\n\\n\")\n",
    "\n",
    "print(5 == 3)\n",
    "print(type(5 == 3), end = \"\\n\\n\")\n",
    "\n",
    "print((math.pi))\n",
    "print(type(math.pi))"
   ]
  },
  {
   "cell_type": "markdown",
   "id": "6c0b4261",
   "metadata": {},
   "source": [
    "### Q2. Write (and evaluate) python expressions that answer these questions:  \n",
    "    a. How many letters are there in 'Supercalifragilisticexpialidocious'? \n",
    "    b. Does 'Supercalifragilisticexpialidocious' contain 'ice' as a substring?   \n",
    "    c. Which of the following words is the longest: Supercalifragilisticexpialidocious, Honorificabilitudinitatibus,  or   \n",
    "       Bababadalgharaghtakamminarronnkonn? \n",
    "    d. Which composer comes first in the dictionary: 'Berlioz', 'Borodin', 'Brian', 'Bartok', 'Bellini', 'Buxtehude', \n",
    "       'Bernstein'. Which one comes last? "
   ]
  },
  {
   "cell_type": "code",
   "execution_count": 7,
   "id": "04b38081",
   "metadata": {},
   "outputs": [
    {
     "name": "stdout",
     "output_type": "stream",
     "text": [
      "34\n"
     ]
    }
   ],
   "source": [
    "# Part (A)\n",
    "word = \"Supercalifragilisticexpialidocious\"\n",
    "print(len(word))"
   ]
  },
  {
   "cell_type": "code",
   "execution_count": 10,
   "id": "576f9226",
   "metadata": {},
   "outputs": [
    {
     "name": "stdout",
     "output_type": "stream",
     "text": [
      "Substring found\n"
     ]
    }
   ],
   "source": [
    "# Part (B)\n",
    "word = \"Supercalifragilisticexpialidocious\"\n",
    "substring = \"ice\"\n",
    "\n",
    "if substring in word:\n",
    "    print(\"Substring found\")\n",
    "else:\n",
    "    print(\"No Substring found\")"
   ]
  },
  {
   "cell_type": "code",
   "execution_count": 20,
   "id": "801f6d9b",
   "metadata": {},
   "outputs": [
    {
     "name": "stdout",
     "output_type": "stream",
     "text": [
      "The Longest word is: Supercalifragilisticexpialidocious\n"
     ]
    }
   ],
   "source": [
    "# Part (C)\n",
    "words = [\"Supercalifragilisticexpialidocious\", \"Honorificabilitudinitatibus\", \"Bababadalgharaghtakamminarronnkonn\"]\n",
    "longest_word = max(words)\n",
    "print(\"The Longest word is: \" + longest_word)\n"
   ]
  },
  {
   "cell_type": "code",
   "execution_count": 14,
   "id": "04823cdc",
   "metadata": {},
   "outputs": [
    {
     "name": "stdout",
     "output_type": "stream",
     "text": [
      "First word is: Bartok\n",
      "Last word is: Buxtehude\n"
     ]
    }
   ],
   "source": [
    "# Part (D)\n",
    "composers = ['Berlioz', 'Borodin', 'Brian', 'Bartok', 'Bellini', 'Buxtehude', 'Bernstein']\n",
    "s = sorted(composers)\n",
    "\n",
    "#printing first and last word using indexing\n",
    "print(\"First word is: \" + s[0])\n",
    "print(\"Last word is: \" + s[-1])"
   ]
  },
  {
   "cell_type": "markdown",
   "id": "a0e11c46",
   "metadata": {},
   "source": [
    "### Q3. Implement function triangleArea(a,b,c) that takes as input the lengths of the 3 sides of a triangle and returns the area of the triangle. By Heron's formula, the area of a triangle with side lengths a, b, and c is s(s - a)(s -b)(s -c) , where s = (a+b+c)/2."
   ]
  },
  {
   "cell_type": "code",
   "execution_count": 17,
   "id": "5d054668",
   "metadata": {},
   "outputs": [
    {
     "name": "stdout",
     "output_type": "stream",
     "text": [
      "1.7320508075688772\n"
     ]
    }
   ],
   "source": [
    "import math\n",
    "\n",
    "def triangleArea(a,b,c):\n",
    "    s= (a+b+c)/2\n",
    "    area_of_triangle = math.sqrt(s*(s-a)*(s-b)*(s-c))\n",
    "    print(area_of_triangle)\n",
    "\n",
    "triangleArea(2,2,2)"
   ]
  },
  {
   "cell_type": "markdown",
   "id": "b6687a0d",
   "metadata": {},
   "source": [
    "### Q4. Write a program in python to separate odd and even integers in separate arrays. Go to the editor Test Data : Input the number of elements to be stored in the array :5 Input 5 elements in the array : element - 0 : 25 element - 1 : 47 element - 2 : 42 element - 3 : 56 element - 4 : 32 Expected Output: The Even elements are: 42 56 32 The Odd elements are : 25 47 "
   ]
  },
  {
   "cell_type": "code",
   "execution_count": 26,
   "id": "18262b2c",
   "metadata": {},
   "outputs": [
    {
     "name": "stdout",
     "output_type": "stream",
     "text": [
      "Input the number of elements to be stored in the array: 5\n",
      "25\n",
      "47\n",
      "42\n",
      "56\n",
      "32\n",
      "The Even elements are:  [42, 56, 32]\n",
      "The odd elements are:  [25, 47]\n"
     ]
    }
   ],
   "source": [
    "# function to separate odd and even integers\n",
    "def separate_odd_even(arr):\n",
    "    # initialize empty lists for odd and even integers\n",
    "    odd = []\n",
    "    even = []\n",
    "    for i in arr:\n",
    "        if i % 2 == 0:\n",
    "            even.append(i)\n",
    "        else:\n",
    "            odd.append(i)\n",
    "    return odd,even\n",
    "\n",
    "# get number of elements from user\n",
    "n = int(input(\"Input the number of elements to be stored in the array: \"))\n",
    "\n",
    "# initialize an empty array\n",
    "arr = []\n",
    "\n",
    "# get elements from user\n",
    "for i in range(n):\n",
    "    element = int(input())\n",
    "    arr.append(element)\n",
    "\n",
    "odd,even = separate_odd_even(arr)\n",
    "\n",
    "print(\"The Even elements are: \", even)\n",
    "print(\"The odd elements are: \", odd)\n"
   ]
  },
  {
   "cell_type": "markdown",
   "id": "d444672a",
   "metadata": {},
   "source": [
    "### Q5  a. Write a function inside(x,y,x1,y1,x2,y2) that returns True or False depending on whether the point (x,y) lies in the rectangle with lower left corner (x1,y1) and upper right corner (x2,y2).   \n",
    "### b. Use function inside() from part a. to write an expression that tests whether the point (1,1) lies in both of the  following rectangles: one with lower left corner (0.3, 0.5) and upper right corner (1.1, 0.7) and the other with lower left corner (0.5, 0.2) and upper right corner (1.1, 2). "
   ]
  },
  {
   "cell_type": "code",
   "execution_count": 27,
   "id": "e398cdab",
   "metadata": {},
   "outputs": [
    {
     "name": "stdout",
     "output_type": "stream",
     "text": [
      "True\n",
      "False\n"
     ]
    }
   ],
   "source": [
    "# Part(A)\n",
    "def inside(x,y,x1,y1,x2,y2):\n",
    "    if (x1 < x) and (x < x2) and (y1 < y) and (y < y2):\n",
    "        print(True)\n",
    "    else:\n",
    "        print(False)\n",
    "\n",
    "inside(1,1,0,0,2,3)\n",
    "inside(-1,-1,0,0,2,3)"
   ]
  },
  {
   "cell_type": "code",
   "execution_count": 28,
   "id": "5185ad9e",
   "metadata": {},
   "outputs": [
    {
     "name": "stdout",
     "output_type": "stream",
     "text": [
      "False\n"
     ]
    }
   ],
   "source": [
    "# Part(B): using inside() from part(a) to check if the given point lies in both the rectangles \n",
    "inside(1, 1, 0.3, 0.5, 1.1, 0.7) and inside(1, 1, 0.5, 0.2, 1.1, 2)"
   ]
  },
  {
   "cell_type": "markdown",
   "id": "41623517",
   "metadata": {},
   "source": [
    "### Q6. You can turn a word into pig-Latin using the following two rules (simplified): • If the word starts with a consonant, move that letter to the end and append 'ay'. For example, 'happy' becomes 'appyhay' and 'pencil' becomes 'encilpay'. • If the word starts with a vowel, simply append 'way' to the end of the word. For example, 'enter' becomes 'enterway' and 'other' becomes 'otherway' . For our purposes, there are 5 vowels: a, e, i, o, u (so we count y as a consonant). Write a function pig() that takes a word (i.e., a string) as input and returns its pigLatin form. Your function should still work if the input word contains upper case characters. Your output should always be lower case however.  "
   ]
  },
  {
   "cell_type": "code",
   "execution_count": 39,
   "id": "8510fabc",
   "metadata": {},
   "outputs": [
    {
     "name": "stdout",
     "output_type": "stream",
     "text": [
      "Enter your word:HAPPY\n"
     ]
    },
    {
     "data": {
      "text/plain": [
       "'appyhay'"
      ]
     },
     "execution_count": 39,
     "metadata": {},
     "output_type": "execute_result"
    }
   ],
   "source": [
    "def pig(word):\n",
    "    vowels = \"aeiou\"\n",
    "    word = word.lower()\n",
    "    if word[0] in vowels:\n",
    "        return word + \"way\"\n",
    "    else:\n",
    "        return word[1:] + word[0] + \"ay\"\n",
    "\n",
    "pig(input(\"Enter your word:\"))\n",
    "\n"
   ]
  },
  {
   "cell_type": "markdown",
   "id": "37a9b4c2",
   "metadata": {},
   "source": [
    "### Q7. File bloodtype1.txt records blood-types of patients (A, B, AB, O or OO) at a clinic. Write a function bldcount() that reads the file with name name and reports (i.e., prints) how many patients there are in each bloodtype."
   ]
  },
  {
   "cell_type": "code",
   "execution_count": 14,
   "id": "887c2749",
   "metadata": {},
   "outputs": [
    {
     "name": "stdout",
     "output_type": "stream",
     "text": [
      "There are  15  patients of blood type A\n",
      "There are  1  patients of blood type B\n",
      "There are  13  patients of blood type AB\n",
      "There are  15  patients of blood type O\n",
      "There are  0  patients of blood type OO\n"
     ]
    }
   ],
   "source": [
    "def bldcount(name):\n",
    "    file= open(name)\n",
    "    \n",
    "    A,B,AB,O,OO = 0,0,0,0,0\n",
    "     \n",
    "    \n",
    "    list = file.read()\n",
    "    list = list.split()\n",
    "    file.close()\n",
    "    \n",
    "    for i in list:\n",
    "        if i == 'A':\n",
    "            A = A+1\n",
    "    print(\"There are \",A,\" patients of blood type A\")\n",
    "    \n",
    "    for i in list:\n",
    "        if i == 'B':\n",
    "            B = B+1\n",
    "    print(\"There are \",B,\" patients of blood type B\")\n",
    "             \n",
    "    for i in list:\n",
    "        if i == 'AB':\n",
    "            AB = AB+1\n",
    "    print(\"There are \",AB,\" patients of blood type AB\")\n",
    "    \n",
    "    for i in list:\n",
    "        if i == 'O':\n",
    "            O = O+1\n",
    "    print(\"There are \",O,\" patients of blood type O\")\n",
    "    \n",
    "    for i in list:\n",
    "        if i == 'OO':\n",
    "            OO = OO+1\n",
    "    print(\"There are \",OO,\" patients of blood type OO\")\n",
    "        \n",
    "    \n",
    "bldcount(\"bloodtype1.txt\")\n",
    "\n",
    "    "
   ]
  },
  {
   "cell_type": "markdown",
   "id": "72d6460b",
   "metadata": {},
   "source": [
    "### Q8. Write a function curconv() that takes as input:  1. a currency represented using a string (e.g., 'JPY' for the Japanese Yen or 'EUR' for the Euro) 2. an amount  and then converts and returns the amount in US dollars. "
   ]
  },
  {
   "cell_type": "code",
   "execution_count": 26,
   "id": "05578c29",
   "metadata": {},
   "outputs": [
    {
     "name": "stdout",
     "output_type": "stream",
     "text": [
      "122.96544\n",
      "1.241401\n"
     ]
    }
   ],
   "source": [
    "def curconv(currency, amount):\n",
    "    file = open(\"currencies.txt\")\n",
    "    lines = file.readlines()\n",
    "\n",
    "    for line in lines:\n",
    "        columns = line.split()\n",
    "        cur_type  = columns[0]\n",
    "        rate = float(columns[1])\n",
    "        if(cur_type == currency):         \n",
    "            return rate * amount\n",
    "\n",
    "\n",
    "print(curconv(\"EUR\", 100))\n",
    "print(curconv(\"JPY\", 100))\n"
   ]
  },
  {
   "cell_type": "markdown",
   "id": "1c5cf3ce",
   "metadata": {},
   "source": [
    "### Q.9 Each of the following will cause an exception (an error). Identify what type of exception each will cause. "
   ]
  },
  {
   "cell_type": "markdown",
   "id": "800bd10d",
   "metadata": {},
   "source": [
    "Trying to add incompatible variables, as in adding 6 + ‘a’  \n",
    "Referring to the 12th item of a list that has only 10 items  \n",
    "Using a value that is out of range for a function’s input, such as calling math.sqrt(-1.0)   \n",
    "Using an undeclared variable, such as print(x) when x has not been defined   \n",
    "Trying to open a file that does not exist, such as mistyping the file name or looking in the wrong directory.  "
   ]
  },
  {
   "cell_type": "code",
   "execution_count": 27,
   "id": "cc6a5730",
   "metadata": {},
   "outputs": [
    {
     "ename": "TypeError",
     "evalue": "unsupported operand type(s) for +: 'int' and 'str'",
     "output_type": "error",
     "traceback": [
      "\u001b[1;31m---------------------------------------------------------------------------\u001b[0m",
      "\u001b[1;31mTypeError\u001b[0m                                 Traceback (most recent call last)",
      "\u001b[1;32m~\\AppData\\Local\\Temp\\ipykernel_13028\\3240646705.py\u001b[0m in \u001b[0;36m<module>\u001b[1;34m\u001b[0m\n\u001b[1;32m----> 1\u001b[1;33m \u001b[1;36m6\u001b[0m \u001b[1;33m+\u001b[0m \u001b[1;34m'a'\u001b[0m\u001b[1;33m\u001b[0m\u001b[1;33m\u001b[0m\u001b[0m\n\u001b[0m",
      "\u001b[1;31mTypeError\u001b[0m: unsupported operand type(s) for +: 'int' and 'str'"
     ]
    }
   ],
   "source": [
    " 6 + 'a'"
   ]
  },
  {
   "cell_type": "code",
   "execution_count": 28,
   "id": "b0d58382",
   "metadata": {},
   "outputs": [
    {
     "ename": "IndexError",
     "evalue": "list index out of range",
     "output_type": "error",
     "traceback": [
      "\u001b[1;31m---------------------------------------------------------------------------\u001b[0m",
      "\u001b[1;31mIndexError\u001b[0m                                Traceback (most recent call last)",
      "\u001b[1;32m~\\AppData\\Local\\Temp\\ipykernel_13028\\2359055395.py\u001b[0m in \u001b[0;36m<module>\u001b[1;34m\u001b[0m\n\u001b[0;32m      1\u001b[0m \u001b[0mlst\u001b[0m \u001b[1;33m=\u001b[0m \u001b[1;33m[\u001b[0m\u001b[1;36m2\u001b[0m\u001b[1;33m,\u001b[0m\u001b[1;36m14\u001b[0m\u001b[1;33m,\u001b[0m\u001b[1;36m36\u001b[0m\u001b[1;33m,\u001b[0m\u001b[1;36m25\u001b[0m\u001b[1;33m,\u001b[0m\u001b[1;36m14\u001b[0m\u001b[1;33m,\u001b[0m\u001b[1;36m69\u001b[0m\u001b[1;33m,\u001b[0m\u001b[1;36m85\u001b[0m\u001b[1;33m,\u001b[0m\u001b[1;36m23\u001b[0m\u001b[1;33m,\u001b[0m\u001b[1;36m129\u001b[0m\u001b[1;33m,\u001b[0m\u001b[1;36m678\u001b[0m\u001b[1;33m]\u001b[0m\u001b[1;33m\u001b[0m\u001b[1;33m\u001b[0m\u001b[0m\n\u001b[1;32m----> 2\u001b[1;33m \u001b[0mprint\u001b[0m\u001b[1;33m(\u001b[0m\u001b[0mlst\u001b[0m\u001b[1;33m[\u001b[0m\u001b[1;36m11\u001b[0m\u001b[1;33m]\u001b[0m\u001b[1;33m)\u001b[0m\u001b[1;33m\u001b[0m\u001b[1;33m\u001b[0m\u001b[0m\n\u001b[0m",
      "\u001b[1;31mIndexError\u001b[0m: list index out of range"
     ]
    }
   ],
   "source": [
    "lst = [2,14,36,25,14,69,85,23,129,678]\n",
    "print(lst[11])"
   ]
  },
  {
   "cell_type": "code",
   "execution_count": 29,
   "id": "af1353ca",
   "metadata": {},
   "outputs": [
    {
     "ename": "ValueError",
     "evalue": "math domain error",
     "output_type": "error",
     "traceback": [
      "\u001b[1;31m---------------------------------------------------------------------------\u001b[0m",
      "\u001b[1;31mValueError\u001b[0m                                Traceback (most recent call last)",
      "\u001b[1;32m~\\AppData\\Local\\Temp\\ipykernel_13028\\2268377916.py\u001b[0m in \u001b[0;36m<module>\u001b[1;34m\u001b[0m\n\u001b[0;32m      1\u001b[0m \u001b[1;32mimport\u001b[0m \u001b[0mmath\u001b[0m\u001b[1;33m\u001b[0m\u001b[1;33m\u001b[0m\u001b[0m\n\u001b[0;32m      2\u001b[0m \u001b[1;33m\u001b[0m\u001b[0m\n\u001b[1;32m----> 3\u001b[1;33m \u001b[0mprint\u001b[0m\u001b[1;33m(\u001b[0m\u001b[0mmath\u001b[0m\u001b[1;33m.\u001b[0m\u001b[0msqrt\u001b[0m\u001b[1;33m(\u001b[0m\u001b[1;33m-\u001b[0m\u001b[1;36m1.0\u001b[0m\u001b[1;33m)\u001b[0m\u001b[1;33m)\u001b[0m\u001b[1;33m\u001b[0m\u001b[1;33m\u001b[0m\u001b[0m\n\u001b[0m",
      "\u001b[1;31mValueError\u001b[0m: math domain error"
     ]
    }
   ],
   "source": [
    "import math\n",
    "\n",
    "print(math.sqrt(-1.0))"
   ]
  },
  {
   "cell_type": "code",
   "execution_count": 30,
   "id": "88e272de",
   "metadata": {},
   "outputs": [
    {
     "ename": "NameError",
     "evalue": "name 'name' is not defined",
     "output_type": "error",
     "traceback": [
      "\u001b[1;31m---------------------------------------------------------------------------\u001b[0m",
      "\u001b[1;31mNameError\u001b[0m                                 Traceback (most recent call last)",
      "\u001b[1;32m~\\AppData\\Local\\Temp\\ipykernel_13028\\2122694447.py\u001b[0m in \u001b[0;36m<module>\u001b[1;34m\u001b[0m\n\u001b[1;32m----> 1\u001b[1;33m \u001b[0mprint\u001b[0m\u001b[1;33m(\u001b[0m\u001b[0mname\u001b[0m\u001b[1;33m)\u001b[0m\u001b[1;33m\u001b[0m\u001b[1;33m\u001b[0m\u001b[0m\n\u001b[0m",
      "\u001b[1;31mNameError\u001b[0m: name 'name' is not defined"
     ]
    }
   ],
   "source": [
    "print(name)"
   ]
  },
  {
   "cell_type": "code",
   "execution_count": 31,
   "id": "4287aa25",
   "metadata": {},
   "outputs": [
    {
     "ename": "FileNotFoundError",
     "evalue": "[Errno 2] No such file or directory: 'hello.txt'",
     "output_type": "error",
     "traceback": [
      "\u001b[1;31m---------------------------------------------------------------------------\u001b[0m",
      "\u001b[1;31mFileNotFoundError\u001b[0m                         Traceback (most recent call last)",
      "\u001b[1;32m~\\AppData\\Local\\Temp\\ipykernel_13028\\4226955090.py\u001b[0m in \u001b[0;36m<module>\u001b[1;34m\u001b[0m\n\u001b[1;32m----> 1\u001b[1;33m \u001b[0mf\u001b[0m \u001b[1;33m=\u001b[0m \u001b[0mopen\u001b[0m\u001b[1;33m(\u001b[0m\u001b[1;34m\"hello.txt\"\u001b[0m\u001b[1;33m)\u001b[0m\u001b[1;33m\u001b[0m\u001b[1;33m\u001b[0m\u001b[0m\n\u001b[0m",
      "\u001b[1;31mFileNotFoundError\u001b[0m: [Errno 2] No such file or directory: 'hello.txt'"
     ]
    }
   ],
   "source": [
    "f = open(\"hello.txt\")"
   ]
  },
  {
   "cell_type": "markdown",
   "id": "3dc1f98d",
   "metadata": {},
   "source": [
    "### Q10. Encryption is the process of hiding the meaning of a text by substituting letters in the message with other letters, according to some system. If the process is successful, no one but the intended recipient can understand the encrypted message. Cryptanalysis refers to attempts to undo the encryption, even if some details of the encryption are unknown (for example, if an encrypted message has been intercepted). The first step of cryptanalysis is often to build up a table of letter frequencies in the encrypted text. Assume that the string letters is already defined as 'abcdefghijklmnopqrstuvwxyz'. Write a function called frequencies() that takes a string as its only parameter, and returns a list of integers, showing the number of times each character appears in the text. Your function may ignore any characters that are not in letters."
   ]
  },
  {
   "cell_type": "code",
   "execution_count": 33,
   "id": "524b6d50",
   "metadata": {},
   "outputs": [
    {
     "name": "stdout",
     "output_type": "stream",
     "text": [
      "[1, 1, 1, 3, 5, 1, 1, 2, 1, 0, 1, 0, 1, 2, 4, 0, 1, 2, 0, 2, 1, 0, 1, 1, 0, 0]\n"
     ]
    }
   ],
   "source": [
    "letters = \"abcdefghijklmnopqrstuvwxyz\"\n",
    "def frequencies(text):\n",
    "    counts = [0] * 26\n",
    "\n",
    "    # iterate through each character in the text\n",
    "    for char in text:\n",
    "\n",
    "        if char in letters:\n",
    "            char = char.lower()\n",
    "            index = letters.index(char)\n",
    "            counts[index] += 1\n",
    "\n",
    "    print(counts)\n",
    "frequencies(\"The quick red fox got bored and went home\")"
   ]
  },
  {
   "cell_type": "code",
   "execution_count": null,
   "id": "42c7dff4",
   "metadata": {},
   "outputs": [],
   "source": []
  }
 ],
 "metadata": {
  "kernelspec": {
   "display_name": "Python 3 (ipykernel)",
   "language": "python",
   "name": "python3"
  },
  "language_info": {
   "codemirror_mode": {
    "name": "ipython",
    "version": 3
   },
   "file_extension": ".py",
   "mimetype": "text/x-python",
   "name": "python",
   "nbconvert_exporter": "python",
   "pygments_lexer": "ipython3",
   "version": "3.9.13"
  },
  "vscode": {
   "interpreter": {
    "hash": "4383a54d7ab9ef147a8b32e95f1bfc8f786d377bb31c1a16c48f8f8c8866188a"
   }
  }
 },
 "nbformat": 4,
 "nbformat_minor": 5
}
